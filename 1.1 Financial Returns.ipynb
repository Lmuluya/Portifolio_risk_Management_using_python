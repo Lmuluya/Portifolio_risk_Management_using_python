{
 "cells": [
  {
   "cell_type": "markdown",
   "metadata": {},
   "source": [
    "## Porotifolio Risk Managment Using Python\n",
    "### Financial Returns Visualisations\n",
    "#### Lamech Muluya Kibudde Datacamp Courses"
   ]
  },
  {
   "cell_type": "code",
   "execution_count": 7,
   "metadata": {},
   "outputs": [
    {
     "name": "stdout",
     "output_type": "stream",
     "text": [
      "        Date    Open    High     Low     Close    Volume   Adjusted\n",
      "0 2000-01-03  88.777  89.722  84.712  58.28125  53228400  38.527809\n",
      "1 2000-01-04  85.893  88.588  84.901  56.31250  54119000  37.226345\n",
      "2 2000-01-05  84.050  88.021  82.726  56.90625  64059600  37.618851\n",
      "3 2000-01-06  84.853  86.130  81.970  55.00000  54976600  36.358688\n",
      "4 2000-01-07  82.159  84.901  81.166  55.71875  62013600  36.833828\n"
     ]
    }
   ],
   "source": [
    "# Import pandas as pd\n",
    "import pandas as pd\n",
    "\n",
    "# Read in the csv file and parse dates\n",
    "StockPrices = pd.read_csv(\"MSFTPrices.csv\", parse_dates=['Date']) # The MSFT stock price data\n",
    "\n",
    "# Ensure the prices are sorted by Date\n",
    "StockPrices = StockPrices.sort_values(by='Date')\n",
    "\n",
    "# Print only the first five rows of StockPrices\n",
    "print(StockPrices.head())"
   ]
  },
  {
   "cell_type": "code",
   "execution_count": null,
   "metadata": {},
   "outputs": [],
   "source": []
  }
 ],
 "metadata": {
  "kernelspec": {
   "display_name": "Python 3",
   "language": "python",
   "name": "python3"
  },
  "language_info": {
   "codemirror_mode": {
    "name": "ipython",
    "version": 3
   },
   "file_extension": ".py",
   "mimetype": "text/x-python",
   "name": "python",
   "nbconvert_exporter": "python",
   "pygments_lexer": "ipython3",
   "version": "3.7.6"
  }
 },
 "nbformat": 4,
 "nbformat_minor": 4
}
