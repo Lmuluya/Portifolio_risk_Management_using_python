{
 "cells": [
  {
   "cell_type": "markdown",
   "metadata": {},
   "source": [
    "## Porotifolio Risk Managment Using Python an Example of the Microsoft Stock price (MSFT)\n",
    "### Financial Returns Visualisations\n",
    "#### Lamech Muluya Kibudde Datacamp Courses"
   ]
  },
  {
   "cell_type": "code",
   "execution_count": 10,
   "metadata": {},
   "outputs": [
    {
     "name": "stdout",
     "output_type": "stream",
     "text": [
      "        Date    Open    High     Low     Close    Volume   Adjusted\n",
      "0 2000-01-03  88.777  89.722  84.712  58.28125  53228400  38.527809\n",
      "1 2000-01-04  85.893  88.588  84.901  56.31250  54119000  37.226345\n",
      "2 2000-01-05  84.050  88.021  82.726  56.90625  64059600  37.618851\n",
      "3 2000-01-06  84.853  86.130  81.970  55.00000  54976600  36.358688\n",
      "4 2000-01-07  82.159  84.901  81.166  55.71875  62013600  36.833828\n"
     ]
    }
   ],
   "source": [
    "# Import pandas as pd\n",
    "import pandas as pd\n",
    "import matplotlib.pyplot as plt\n",
    "\n",
    "# Read in the csv file and parse dates\n",
    "StockPrices = pd.read_excel(\"MSFTPrices.xlsx\", parse_dates=['Date']) # The MSFT stock price data\n",
    "\n",
    "# Ensure the prices and Returns are sorted by Date\n",
    "StockPrices = StockPrices.sort_values(by='Date')\n",
    "\n",
    "# Print only the first five rows of StockPrices\n",
    "print(StockPrices.head())"
   ]
  },
  {
   "cell_type": "code",
   "execution_count": 11,
   "metadata": {},
   "outputs": [
    {
     "name": "stdout",
     "output_type": "stream",
     "text": [
      "        Date    Open    High     Low     Close    Volume   Adjusted   Returns\n",
      "0 2000-01-03  88.777  89.722  84.712  58.28125  53228400  38.527809       NaN\n",
      "1 2000-01-04  85.893  88.588  84.901  56.31250  54119000  37.226345 -0.033780\n",
      "2 2000-01-05  84.050  88.021  82.726  56.90625  64059600  37.618851  0.010544\n",
      "3 2000-01-06  84.853  86.130  81.970  55.00000  54976600  36.358688 -0.033498\n",
      "4 2000-01-07  82.159  84.901  81.166  55.71875  62013600  36.833828  0.013068\n"
     ]
    },
    {
     "data": {
      "image/png": "[encoded data removed]",
      "text/plain": [
       "<Figure size 432x288 with 1 Axes>"
      ]
     },
     "metadata": {
      "needs_background": "light"
     },
     "output_type": "display_data"
    }
   ],
   "source": [
    "# Calculate the daily returns of the adjusted close price\n",
    "StockPrices['Returns'] = StockPrices['Adjusted'].pct_change()\n",
    "\n",
    "# Check the first five rows of StockPrices\n",
    "print(StockPrices.head())\n",
    "\n",
    "# Plot the returns column over time\n",
    "StockPrices['Returns'].plot()\n",
    "plt.show()"
   ]
  },
  {
   "cell_type": "code",
   "execution_count": 12,
   "metadata": {},
   "outputs": [
    {
     "data": {
      "image/png": "[encoded data removed]",
      "text/plain": [
       "<Figure size 432x288 with 1 Axes>"
      ]
     },
     "metadata": {
      "needs_background": "light"
     },
     "output_type": "display_data"
    }
   ],
   "source": [
    "# Convert the decimal returns into percentage returns\n",
    "percent_return = StockPrices['Returns']*100\n",
    "\n",
    "# Drop the missing values\n",
    "returns_plot = percent_return.dropna()\n",
    "\n",
    "# Plot the returns histogram\n",
    "plt.hist(returns_plot, bins=75)\n",
    "plt.show()"
   ]
  },
  {
   "cell_type": "markdown",
   "metadata": {},
   "source": [
    "## Mean, variance, and normal distribution\n"
   ]
  },
  {
   "cell_type": "code",
   "execution_count": 13,
   "metadata": {},
   "outputs": [
    {
     "name": "stdout",
     "output_type": "stream",
     "text": [
      "Daily Return 0.0003777754643575769\n",
      "Annulised Return 0.09985839482852632\n"
     ]
    }
   ],
   "source": [
    "# Import numpy as np\n",
    "import numpy as np\n",
    "\n",
    "# Calculate the average daily return of the stock\n",
    "mean_return_daily = np.mean(StockPrices['Returns'])\n",
    "print(\"Daily Return\", mean_return_daily)\n",
    "\n",
    "# Calculate the implied annualized average return\n",
    "mean_return_annualized = ((1+mean_return_daily)**252)-1\n",
    "print( \"Annulised Return\", mean_return_annualized)"
   ]
  },
  {
   "cell_type": "code",
   "execution_count": 14,
   "metadata": {},
   "outputs": [
    {
     "name": "stdout",
     "output_type": "stream",
     "text": [
      "Daily Standard Deviation 0.019341100408708328\n",
      "Daily Variance 0.0003740781650197374\n"
     ]
    }
   ],
   "source": [
    "# Calculate the standard deviation of daily return of the stock\n",
    "sigma_daily = np.std(StockPrices['Returns'])\n",
    "print(\"Daily Standard Deviation\",sigma_daily)\n",
    "\n",
    "# Calculate the daily variance\n",
    "variance_daily = sigma_daily**2\n",
    "print(\"Daily Variance\",variance_daily)"
   ]
  },
  {
   "cell_type": "code",
   "execution_count": 15,
   "metadata": {},
   "outputs": [
    {
     "name": "stdout",
     "output_type": "stream",
     "text": [
      "Annualised Standard Deviation 0.3070304505826317\n",
      "Annualised Variance 0.09426769758497383\n"
     ]
    }
   ],
   "source": [
    "# Annualize the standard deviation\n",
    "sigma_annualized = sigma_daily*np.sqrt(252)\n",
    "print(\"Annualised Standard Deviation\",sigma_annualized)\n",
    "\n",
    "# Calculate the annualized variance\n",
    "variance_annualized = sigma_annualized**2\n",
    "print(\"Annualised Variance\",variance_annualized)"
   ]
  },
  {
   "cell_type": "markdown",
   "metadata": {},
   "source": [
    "### Third moment: Skewness"
   ]
  },
  {
   "cell_type": "code",
   "execution_count": 16,
   "metadata": {},
   "outputs": [
    {
     "name": "stdout",
     "output_type": "stream",
     "text": [
      "Returns Skewness 0.21935459193067805\n"
     ]
    }
   ],
   "source": [
    "# Import skew from scipy.stats\n",
    "from scipy.stats import skew\n",
    "\n",
    "# Drop the missing values\n",
    "clean_returns = StockPrices['Returns'].dropna()\n",
    "\n",
    "# Calculate the third moment (skewness) of the returns distribution\n",
    "returns_skewness = skew(clean_returns)\n",
    "print(\"Returns Skewness\", returns_skewness)"
   ]
  },
  {
   "cell_type": "markdown",
   "metadata": {},
   "source": [
    "### Fourth moment: Kurtosis"
   ]
  },
  {
   "cell_type": "code",
   "execution_count": 17,
   "metadata": {},
   "outputs": [
    {
     "name": "stdout",
     "output_type": "stream",
     "text": [
      "Excess Kurtosis 10.314572618025519\n",
      "Fourth Moment Kurtosis 13.314572618025519\n"
     ]
    }
   ],
   "source": [
    "# # Import kurtosis from scipy.stats\n",
    "from scipy.stats import kurtosis\n",
    "\n",
    "# Calculate the excess kurtosis of the returns distribution\n",
    "excess_kurtosis = kurtosis(clean_returns)\n",
    "print(\"Excess Kurtosis\",excess_kurtosis)\n",
    "\n",
    "# Derive the true fourth moment of the returns distribution\n",
    "fourth_moment = excess_kurtosis + 3\n",
    "print(\"Fourth Moment Kurtosis\",fourth_moment)"
   ]
  },
  {
   "cell_type": "markdown",
   "metadata": {},
   "source": [
    "### Statistical tests for normality"
   ]
  },
  {
   "cell_type": "code",
   "execution_count": 18,
   "metadata": {},
   "outputs": [
    {
     "name": "stdout",
     "output_type": "stream",
     "text": [
      "Shapiro results: (0.9003633260726929, 0.0)\n",
      "P-value:  0.0\n"
     ]
    }
   ],
   "source": [
    "# Import shapiro from scipy.stats\n",
    "from scipy.stats import shapiro\n",
    "\n",
    "# Run the Shapiro-Wilk test on the stock returns\n",
    "shapiro_results = shapiro(clean_returns)\n",
    "print(\"Shapiro results:\", shapiro_results)\n",
    "\n",
    "# Extract the p-value from the shapiro_results\n",
    "p_value = shapiro_results[1]\n",
    "print(\"P-value: \", p_value)"
   ]
  },
  {
   "cell_type": "markdown",
   "metadata": {},
   "source": [
    "## Portfolio composition and backtesting\n"
   ]
  },
  {
   "cell_type": "code",
   "execution_count": 32,
   "metadata": {},
   "outputs": [
    {
     "name": "stdout",
     "output_type": "stream",
     "text": [
      "       AAPL      MSFT       XOM       JNJ       JPM      AMZN        GE  \\\n",
      "0  0.002849  0.007081  0.006980  0.005468  0.010894  0.005068  0.002848   \n",
      "1 -0.001119 -0.004474 -0.011002 -0.001640  0.001844  0.004657  0.000316   \n",
      "2  0.005085  0.000000 -0.014907  0.010463 -0.009205  0.030732 -0.005678   \n",
      "3  0.011148  0.008668 -0.000565 -0.004792  0.000116  0.019912  0.002855   \n",
      "4  0.009159 -0.003183 -0.016497 -0.000172  0.000697  0.001168 -0.004745   \n",
      "\n",
      "         FB         T  \n",
      "0  0.015732  0.011521  \n",
      "1  0.015660 -0.005811  \n",
      "2  0.016682 -0.002806  \n",
      "3  0.022707 -0.019924  \n",
      "4  0.012074 -0.012585  \n"
     ]
    }
   ],
   "source": [
    "StockReturns = pd.read_excel(\"Big9Returns2017.xlsx\") # Importing the stock Returns\n",
    "print(StockReturns.head())"
   ]
  },
  {
   "cell_type": "code",
   "execution_count": 33,
   "metadata": {},
   "outputs": [
    {
     "data": {
      "image/png": "[encoded data removed]",
      "text/plain": [
       "<Figure size 432x288 with 1 Axes>"
      ]
     },
     "metadata": {
      "needs_background": "light"
     },
     "output_type": "display_data"
    }
   ],
   "source": [
    "# Finish defining the portfolio weights as a numpy array\n",
    "portfolio_weights = np.array([0.12, 0.15, 0.08, 0.05, 0.09, 0.10, 0.11, 0.14, 0.16])\n",
    "\n",
    "# Calculate the weighted stock returns\n",
    "WeightedReturns = StockReturns.mul(portfolio_weights, axis=1)\n",
    "\n",
    "# Calculate the portfolio returns\n",
    "StockReturns['Portfolio'] = WeightedReturns.sum(axis=1)\n",
    "\n",
    "# Plot the cumulative portfolio returns over time\n",
    "CumulativeReturns = ((1+StockReturns[\"Portfolio\"]).cumprod()-1)\n",
    "CumulativeReturns.plot()\n",
    "plt.show()"
   ]
  },
  {
   "cell_type": "code",
   "execution_count": null,
   "metadata": {},
   "outputs": [],
   "source": []
  }
 ],
 "metadata": {
  "kernelspec": {
   "display_name": "Python 3",
   "language": "python",
   "name": "python3"
  },
  "language_info": {
   "codemirror_mode": {
    "name": "ipython",
    "version": 3
   },
   "file_extension": ".py",
   "mimetype": "text/x-python",
   "name": "python",
   "nbconvert_exporter": "python",
   "pygments_lexer": "ipython3",
   "version": "3.7.4"
  }
 },
 "nbformat": 4,
 "nbformat_minor": 4
}
